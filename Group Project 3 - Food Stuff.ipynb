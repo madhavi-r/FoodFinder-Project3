{
 "cells": [
  {
   "cell_type": "code",
   "execution_count": 1,
   "metadata": {},
   "outputs": [
    {
     "name": "stdout",
     "output_type": "stream",
     "text": [
      "CPU times: user 1.21 s, sys: 374 ms, total: 1.58 s\n",
      "Wall time: 2.38 s\n"
     ]
    },
    {
     "name": "stderr",
     "output_type": "stream",
     "text": [
      "Using TensorFlow backend.\n"
     ]
    }
   ],
   "source": [
    "%%time\n",
    "\n",
    "# Dependencies to Visualize the model\n",
    "%matplotlib inline\n",
    "from IPython.display import display, SVG\n",
    "from PIL import Image\n",
    "import matplotlib.pyplot as plt\n",
    "\n",
    "# Filepaths, numpy, pandas, and Tensorflow\n",
    "import os\n",
    "import numpy as np\n",
    "import pandas as pd\n",
    "import tensorflow as tf\n",
    "\n",
    "# Sklearn scaling\n",
    "from sklearn.preprocessing import MinMaxScaler\n",
    "\n",
    "# Keras\n",
    "from keras.models import Sequential,Model\n",
    "from keras.utils import to_categorical\n",
    "from keras.layers import Dense, Conv2D\n",
    "from keras.preprocessing.image import ImageDataGenerator, load_img, image\n",
    "from keras.applications import VGG16\n",
    "\n",
    "# Shutil\n",
    "import shutil"
   ]
  },
  {
   "cell_type": "code",
   "execution_count": 2,
   "metadata": {},
   "outputs": [],
   "source": [
    "#t_directories = pd.read_csv('food-101/meta/train.txt', header=None)\n",
    "#tList = t_directories[0].tolist()\n",
    "\n",
    "#c_directories = pd.read_csv('food-101/meta/classes.txt', header=None)\n",
    "#cList = c_directories[0].tolist()\n",
    "\n",
    "#fList = [s for s in tList if any(xs in s for xs in cList)]\n",
    "\n",
    "#with open('train.txt', 'w') as f:\n",
    "#    for item in fList:\n",
    "#        f.write(\"%s\\n\" % item)"
   ]
  },
  {
   "cell_type": "code",
   "execution_count": 3,
   "metadata": {},
   "outputs": [],
   "source": [
    "#Only run the below code once in order to create the training directory\n",
    "\n",
    "folderList = []\n",
    "\n",
    "folder_directories = pd.read_csv('food-101/meta/classes.txt', header=None) #reads the classes and folders found in food-101\n",
    "fList = folder_directories[0].tolist()\n",
    "\n",
    "for item in fList:\n",
    "    folderList.append(os.path.join('train/image',item)) #creates directory paths for folders needed\n",
    "\n",
    "for item in folderList:\n",
    "    os.mkdir(item)"
   ]
  },
  {
   "cell_type": "code",
   "execution_count": 4,
   "metadata": {},
   "outputs": [],
   "source": [
    "#Only run the below code once in order to create the test directory\n",
    "\n",
    "testD = []\n",
    "\n",
    "test_directories = pd.read_csv('food-101/meta/classes.txt', header=None) #reads the classes and folders found in food-101\n",
    "tfList = test_directories[0].tolist()\n",
    "\n",
    "for item in tfList:\n",
    "    testD.append(os.path.join('validation/image',item)) #creates directory paths for folders needed\n",
    "\n",
    "for item in testD:\n",
    "    os.mkdir(item)"
   ]
  },
  {
   "cell_type": "code",
   "execution_count": 5,
   "metadata": {},
   "outputs": [
    {
     "name": "stdout",
     "output_type": "stream",
     "text": [
      "CPU times: user 1.67 s, sys: 4.76 s, total: 6.44 s\n",
      "Wall time: 13.6 s\n"
     ]
    }
   ],
   "source": [
    "%%time\n",
    "\n",
    "currentD = []\n",
    "nextD = []\n",
    "\n",
    "t_directories = pd.read_csv('food-101/meta/train.txt', header=None)\n",
    "tList = t_directories[0].tolist()\n",
    "\n",
    "for item in tList: #only necessary to create training directory\n",
    "    currentD.append(os.path.join('food-101/image',item + '.jpg'))\n",
    "    nextD.append(os.path.join('train/image', item + '.jpg'))\n",
    "\n",
    "for i in range(len(currentD)): #Only run this command once in order to create the training directory for images\n",
    "    shutil.copy(currentD[i], nextD[i])"
   ]
  },
  {
   "cell_type": "code",
   "execution_count": 6,
   "metadata": {},
   "outputs": [
    {
     "name": "stdout",
     "output_type": "stream",
     "text": [
      "CPU times: user 599 ms, sys: 1.67 s, total: 2.27 s\n",
      "Wall time: 4.49 s\n"
     ]
    }
   ],
   "source": [
    "%%time\n",
    "existingD = []\n",
    "validationD = []\n",
    "\n",
    "v_directories = pd.read_csv('food-101/meta/test.txt', header=None)\n",
    "vList = v_directories[0].tolist()\n",
    "\n",
    "for item in vList: #only necessary to create test directory\n",
    "    existingD.append(os.path.join('food-101/image',item + '.jpg'))\n",
    "    validationD.append(os.path.join('validation/image', item + '.jpg'))\n",
    "\n",
    "for i in range(len(existingD)): #Only run this command once in order to create the training directory for images\n",
    "    shutil.copy(existingD[i], validationD[i])"
   ]
  },
  {
   "cell_type": "code",
   "execution_count": 7,
   "metadata": {},
   "outputs": [
    {
     "name": "stdout",
     "output_type": "stream",
     "text": [
      "_________________________________________________________________\n",
      "Layer (type)                 Output Shape              Param #   \n",
      "=================================================================\n",
      "input_1 (InputLayer)         (None, 224, 224, 3)       0         \n",
      "_________________________________________________________________\n",
      "block1_conv1 (Conv2D)        (None, 224, 224, 64)      1792      \n",
      "_________________________________________________________________\n",
      "block1_conv2 (Conv2D)        (None, 224, 224, 64)      36928     \n",
      "_________________________________________________________________\n",
      "block1_pool (MaxPooling2D)   (None, 112, 112, 64)      0         \n",
      "_________________________________________________________________\n",
      "block2_conv1 (Conv2D)        (None, 112, 112, 128)     73856     \n",
      "_________________________________________________________________\n",
      "block2_conv2 (Conv2D)        (None, 112, 112, 128)     147584    \n",
      "_________________________________________________________________\n",
      "block2_pool (MaxPooling2D)   (None, 56, 56, 128)       0         \n",
      "_________________________________________________________________\n",
      "block3_conv1 (Conv2D)        (None, 56, 56, 256)       295168    \n",
      "_________________________________________________________________\n",
      "block3_conv2 (Conv2D)        (None, 56, 56, 256)       590080    \n",
      "_________________________________________________________________\n",
      "block3_conv3 (Conv2D)        (None, 56, 56, 256)       590080    \n",
      "_________________________________________________________________\n",
      "block3_pool (MaxPooling2D)   (None, 28, 28, 256)       0         \n",
      "_________________________________________________________________\n",
      "block4_conv1 (Conv2D)        (None, 28, 28, 512)       1180160   \n",
      "_________________________________________________________________\n",
      "block4_conv2 (Conv2D)        (None, 28, 28, 512)       2359808   \n",
      "_________________________________________________________________\n",
      "block4_conv3 (Conv2D)        (None, 28, 28, 512)       2359808   \n",
      "_________________________________________________________________\n",
      "block4_pool (MaxPooling2D)   (None, 14, 14, 512)       0         \n",
      "_________________________________________________________________\n",
      "block5_conv1 (Conv2D)        (None, 14, 14, 512)       2359808   \n",
      "_________________________________________________________________\n",
      "block5_conv2 (Conv2D)        (None, 14, 14, 512)       2359808   \n",
      "_________________________________________________________________\n",
      "block5_conv3 (Conv2D)        (None, 14, 14, 512)       2359808   \n",
      "_________________________________________________________________\n",
      "block5_pool (MaxPooling2D)   (None, 7, 7, 512)         0         \n",
      "=================================================================\n",
      "Total params: 14,714,688\n",
      "Trainable params: 14,714,688\n",
      "Non-trainable params: 0\n",
      "_________________________________________________________________\n"
     ]
    }
   ],
   "source": [
    "from keras.preprocessing.image import ImageDataGenerator, load_img\n",
    "from keras.applications import VGG16\n",
    "\n",
    "vgg_conv = VGG16(weights='imagenet',\n",
    "                  include_top=False,\n",
    "                  input_shape=(224, 224, 3))\n",
    "\n",
    "vgg_conv.summary()"
   ]
  },
  {
   "cell_type": "code",
   "execution_count": 8,
   "metadata": {},
   "outputs": [],
   "source": [
    "# defining directories and amount of images to train/validate\n",
    "train_dir = 'train/image'\n",
    "validation_dir = 'validation/image'\n",
    "\n",
    "nTrain = 16500\n",
    "nVal = 5500"
   ]
  },
  {
   "cell_type": "code",
   "execution_count": 9,
   "metadata": {},
   "outputs": [
    {
     "name": "stdout",
     "output_type": "stream",
     "text": [
      "Found 16500 images belonging to 22 classes.\n",
      "CPU times: user 12h 6min 13s, sys: 36min 14s, total: 12h 42min 28s\n",
      "Wall time: 1h 9min 36s\n"
     ]
    }
   ],
   "source": [
    "%%time\n",
    "# training images which belong to classes\n",
    "datagen = ImageDataGenerator(rescale=1./255)\n",
    "batch_size = 20\n",
    "\n",
    "train_features = np.zeros(shape=(nTrain, 7, 7, 512))\n",
    "train_labels = np.zeros(shape=(nTrain,22))\n",
    "\n",
    "train_generator = datagen.flow_from_directory(\n",
    "    train_dir,\n",
    "    target_size=(224, 224),\n",
    "    batch_size=batch_size,\n",
    "    class_mode='categorical',\n",
    "    shuffle=True)\n",
    "\n",
    "i = 0\n",
    "for inputs_batch, labels_batch in train_generator:\n",
    "    \n",
    "    features_batch = vgg_conv.predict(inputs_batch)\n",
    "    \n",
    "    train_features[i * batch_size : (i + 1) * batch_size] = features_batch\n",
    "    train_labels[i * batch_size : (i + 1) * batch_size] = labels_batch\n",
    "    i += 1\n",
    "    if i * batch_size >= nTrain:\n",
    "        break\n",
    "        \n",
    "train_features = np.reshape(train_features, (nTrain, 7 * 7 * 512))"
   ]
  },
  {
   "cell_type": "code",
   "execution_count": 115,
   "metadata": {},
   "outputs": [
    {
     "data": {
      "text/plain": [
       "array([1., 0., 0., 0., 0., 0., 0., 0., 0., 0., 0., 0., 0., 0., 0., 0., 0.,\n",
       "       0., 0., 0., 0., 0.])"
      ]
     },
     "execution_count": 115,
     "metadata": {},
     "output_type": "execute_result"
    }
   ],
   "source": [
    "train_labels[0]"
   ]
  },
  {
   "cell_type": "code",
   "execution_count": 46,
   "metadata": {
    "scrolled": true
   },
   "outputs": [
    {
     "data": {
      "text/plain": [
       "25088"
      ]
     },
     "execution_count": 46,
     "metadata": {},
     "output_type": "execute_result"
    }
   ],
   "source": [
    "len(train_features[0])"
   ]
  },
  {
   "cell_type": "code",
   "execution_count": 56,
   "metadata": {},
   "outputs": [
    {
     "data": {
      "text/plain": [
       "array([0.        , 0.        , 0.        , ..., 0.        , 1.11723852,\n",
       "       0.        ])"
      ]
     },
     "execution_count": 56,
     "metadata": {},
     "output_type": "execute_result"
    }
   ],
   "source": [
    "train_features[0]"
   ]
  },
  {
   "cell_type": "code",
   "execution_count": 15,
   "metadata": {},
   "outputs": [
    {
     "name": "stdout",
     "output_type": "stream",
     "text": [
      "Epoch 1/32\n",
      "16500/16500 [==============================] - 102s 6ms/step - loss: 2.4722 - acc: 0.2751\n",
      "Epoch 2/32\n",
      "16500/16500 [==============================] - 107s 6ms/step - loss: 1.8438 - acc: 0.4532\n",
      "Epoch 3/32\n",
      "16500/16500 [==============================] - 106s 6ms/step - loss: 1.5807 - acc: 0.5296\n",
      "Epoch 4/32\n",
      "16500/16500 [==============================] - 98s 6ms/step - loss: 1.4027 - acc: 0.5797\n",
      "Epoch 5/32\n",
      "16500/16500 [==============================] - 102s 6ms/step - loss: 1.2583 - acc: 0.6185\n",
      "Epoch 6/32\n",
      "16500/16500 [==============================] - 99s 6ms/step - loss: 1.1480 - acc: 0.6496\n",
      "Epoch 7/32\n",
      "16500/16500 [==============================] - 99s 6ms/step - loss: 1.0417 - acc: 0.6867\n",
      "Epoch 8/32\n",
      "16500/16500 [==============================] - 100s 6ms/step - loss: 0.9690 - acc: 0.7039\n",
      "Epoch 9/32\n",
      "16500/16500 [==============================] - 99s 6ms/step - loss: 0.8909 - acc: 0.7242\n",
      "Epoch 10/32\n",
      "16500/16500 [==============================] - 99s 6ms/step - loss: 0.8256 - acc: 0.7431\n",
      "Epoch 11/32\n",
      "16500/16500 [==============================] - 101s 6ms/step - loss: 0.7771 - acc: 0.7629\n",
      "Epoch 12/32\n",
      "16500/16500 [==============================] - 99s 6ms/step - loss: 0.7311 - acc: 0.7755\n",
      "Epoch 13/32\n",
      "16500/16500 [==============================] - 100s 6ms/step - loss: 0.6943 - acc: 0.7889\n",
      "Epoch 14/32\n",
      "16500/16500 [==============================] - 101s 6ms/step - loss: 0.6358 - acc: 0.8025\n",
      "Epoch 15/32\n",
      "16500/16500 [==============================] - 100s 6ms/step - loss: 0.5935 - acc: 0.8179\n",
      "Epoch 16/32\n",
      "16500/16500 [==============================] - 100s 6ms/step - loss: 0.5737 - acc: 0.8285\n",
      "Epoch 17/32\n",
      "16500/16500 [==============================] - 100s 6ms/step - loss: 0.5518 - acc: 0.8296\n",
      "Epoch 18/32\n",
      "16500/16500 [==============================] - 100s 6ms/step - loss: 0.5093 - acc: 0.8470\n",
      "Epoch 19/32\n",
      "16500/16500 [==============================] - 99s 6ms/step - loss: 0.5119 - acc: 0.8467\n",
      "Epoch 20/32\n",
      "16500/16500 [==============================] - 100s 6ms/step - loss: 0.4982 - acc: 0.8501\n",
      "Epoch 21/32\n",
      "16500/16500 [==============================] - 100s 6ms/step - loss: 0.4768 - acc: 0.8572\n",
      "Epoch 22/32\n",
      "16500/16500 [==============================] - 101s 6ms/step - loss: 0.4539 - acc: 0.8661\n",
      "Epoch 23/32\n",
      "16500/16500 [==============================] - 101s 6ms/step - loss: 0.4371 - acc: 0.8702\n",
      "Epoch 24/32\n",
      "16500/16500 [==============================] - 101s 6ms/step - loss: 0.4293 - acc: 0.8787\n",
      "Epoch 25/32\n",
      "16500/16500 [==============================] - 100s 6ms/step - loss: 0.4294 - acc: 0.8778\n",
      "Epoch 26/32\n",
      "16500/16500 [==============================] - 100s 6ms/step - loss: 0.4172 - acc: 0.8817\n",
      "Epoch 27/32\n",
      "16500/16500 [==============================] - 102s 6ms/step - loss: 0.4166 - acc: 0.8818\n",
      "Epoch 28/32\n",
      "16500/16500 [==============================] - 100s 6ms/step - loss: 0.3885 - acc: 0.8886\n",
      "Epoch 29/32\n",
      "16500/16500 [==============================] - 100s 6ms/step - loss: 0.3862 - acc: 0.8901\n",
      "Epoch 30/32\n",
      "16500/16500 [==============================] - 101s 6ms/step - loss: 0.3922 - acc: 0.8915\n",
      "Epoch 31/32\n",
      "16500/16500 [==============================] - 102s 6ms/step - loss: 0.3841 - acc: 0.8919\n",
      "Epoch 32/32\n",
      "16500/16500 [==============================] - 102s 6ms/step - loss: 0.3952 - acc: 0.8907\n",
      "CPU times: user 6h 8min 8s, sys: 20min 5s, total: 6h 28min 14s\n",
      "Wall time: 53min 41s\n"
     ]
    }
   ],
   "source": [
    "%%time\n",
    "from keras import models\n",
    "from keras import layers\n",
    "from keras import optimizers\n",
    "\n",
    "model = models.Sequential()\n",
    "model.add(layers.Dense(512, activation='relu', input_dim= 7 * 7 * 512))\n",
    "model.add(layers.Dropout(0.5))\n",
    "model.add(layers.Dense(22, activation='softmax'))\n",
    "\n",
    "model.compile(optimizer=optimizers.RMSprop(lr=2e-4),\n",
    "              loss='categorical_crossentropy',\n",
    "              metrics=['acc'])\n",
    "\n",
    "history = model.fit(train_features,\n",
    "                    train_labels,\n",
    "                    epochs=32,\n",
    "                    batch_size=batch_size)"
   ]
  },
  {
   "cell_type": "code",
   "execution_count": 16,
   "metadata": {},
   "outputs": [
    {
     "name": "stdout",
     "output_type": "stream",
     "text": [
      "Found 5500 images belonging to 22 classes.\n",
      "CPU times: user 4h 10min 12s, sys: 13min 6s, total: 4h 23min 19s\n",
      "Wall time: 24min 6s\n"
     ]
    }
   ],
   "source": [
    "%%time\n",
    "\n",
    "validation_features = np.zeros(shape=(nVal, 7, 7, 512))\n",
    "validation_labels = np.zeros(shape=(nVal,22))\n",
    "\n",
    "validation_generator = datagen.flow_from_directory(\n",
    "    validation_dir,\n",
    "    target_size=(224, 224),\n",
    "    batch_size=batch_size,\n",
    "    class_mode='categorical',\n",
    "    shuffle=False)\n",
    "\n",
    "i = 0\n",
    "for inputs_batch, labels_batch in validation_generator:\n",
    "    features_batch = vgg_conv.predict(inputs_batch)\n",
    "    validation_features[i * batch_size : (i + 1) * batch_size] = features_batch\n",
    "    validation_labels[i * batch_size : (i + 1) * batch_size] = labels_batch\n",
    "    i += 1\n",
    "    if i * batch_size >= nVal:\n",
    "        break\n",
    "\n",
    "validation_features = np.reshape(validation_features, (nVal, 7 * 7 * 512))"
   ]
  },
  {
   "cell_type": "code",
   "execution_count": 170,
   "metadata": {},
   "outputs": [
    {
     "data": {
      "text/plain": [
       "(25088,)"
      ]
     },
     "execution_count": 170,
     "metadata": {},
     "output_type": "execute_result"
    }
   ],
   "source": [
    "train_features[0].shape"
   ]
  },
  {
   "cell_type": "code",
   "execution_count": 17,
   "metadata": {},
   "outputs": [
    {
     "name": "stdout",
     "output_type": "stream",
     "text": [
      "Train on 16500 samples, validate on 5500 samples\n",
      "Epoch 1/20\n",
      "16500/16500 [==============================] - 102s 6ms/step - loss: 0.3708 - acc: 0.9007 - val_loss: 2.0626 - val_acc: 0.6349\n",
      "Epoch 2/20\n",
      "16500/16500 [==============================] - 100s 6ms/step - loss: 0.3614 - acc: 0.8962 - val_loss: 2.1700 - val_acc: 0.6276\n",
      "Epoch 3/20\n",
      "16500/16500 [==============================] - 100s 6ms/step - loss: 0.3666 - acc: 0.9044 - val_loss: 2.1680 - val_acc: 0.6380\n",
      "Epoch 4/20\n",
      "16500/16500 [==============================] - 100s 6ms/step - loss: 0.3706 - acc: 0.9060 - val_loss: 2.1269 - val_acc: 0.6418\n",
      "Epoch 5/20\n",
      "16500/16500 [==============================] - 101s 6ms/step - loss: 0.3637 - acc: 0.9039 - val_loss: 2.1943 - val_acc: 0.6385\n",
      "Epoch 6/20\n",
      "16500/16500 [==============================] - 102s 6ms/step - loss: 0.3737 - acc: 0.9020 - val_loss: 2.2445 - val_acc: 0.6309\n",
      "Epoch 7/20\n",
      "16500/16500 [==============================] - 102s 6ms/step - loss: 0.3534 - acc: 0.9077 - val_loss: 2.2305 - val_acc: 0.6353\n",
      "Epoch 8/20\n",
      "16500/16500 [==============================] - 103s 6ms/step - loss: 0.3604 - acc: 0.9060 - val_loss: 2.2260 - val_acc: 0.6378\n",
      "Epoch 9/20\n",
      "16500/16500 [==============================] - 104s 6ms/step - loss: 0.3641 - acc: 0.9084 - val_loss: 2.3288 - val_acc: 0.6264\n",
      "Epoch 10/20\n",
      "16500/16500 [==============================] - 109s 7ms/step - loss: 0.3532 - acc: 0.9130 - val_loss: 2.4671 - val_acc: 0.6316\n",
      "Epoch 11/20\n",
      "16500/16500 [==============================] - 107s 7ms/step - loss: 0.3566 - acc: 0.9098 - val_loss: 2.3898 - val_acc: 0.6335\n",
      "Epoch 12/20\n",
      "16500/16500 [==============================] - 100s 6ms/step - loss: 0.3703 - acc: 0.9093 - val_loss: 2.3692 - val_acc: 0.6233\n",
      "Epoch 13/20\n",
      "16500/16500 [==============================] - 100s 6ms/step - loss: 0.3499 - acc: 0.9108 - val_loss: 2.3810 - val_acc: 0.6420\n",
      "Epoch 14/20\n",
      "16500/16500 [==============================] - 101s 6ms/step - loss: 0.3601 - acc: 0.9123 - val_loss: 2.3711 - val_acc: 0.6373\n",
      "Epoch 15/20\n",
      "16500/16500 [==============================] - 101s 6ms/step - loss: 0.3512 - acc: 0.9185 - val_loss: 2.4029 - val_acc: 0.6236\n",
      "Epoch 16/20\n",
      "16500/16500 [==============================] - 101s 6ms/step - loss: 0.3548 - acc: 0.9162 - val_loss: 2.6505 - val_acc: 0.6280\n",
      "Epoch 17/20\n",
      "16500/16500 [==============================] - 98s 6ms/step - loss: 0.3642 - acc: 0.9133 - val_loss: 2.5237 - val_acc: 0.6345\n",
      "Epoch 18/20\n",
      "16500/16500 [==============================] - 96s 6ms/step - loss: 0.3661 - acc: 0.9130 - val_loss: 2.5421 - val_acc: 0.6180\n",
      "Epoch 19/20\n",
      "16500/16500 [==============================] - 95s 6ms/step - loss: 0.3488 - acc: 0.9160 - val_loss: 2.6329 - val_acc: 0.6253\n",
      "Epoch 20/20\n",
      "16500/16500 [==============================] - 99s 6ms/step - loss: 0.3806 - acc: 0.9118 - val_loss: 2.5591 - val_acc: 0.6336\n",
      "CPU times: user 3h 52min 20s, sys: 11min 51s, total: 4h 4min 12s\n",
      "Wall time: 33min 43s\n"
     ]
    }
   ],
   "source": [
    "%%time\n",
    "history = model.fit(train_features,\n",
    "                    train_labels,\n",
    "                    epochs=20,\n",
    "                    batch_size=batch_size,\n",
    "                    validation_data=(validation_features,validation_labels))"
   ]
  },
  {
   "cell_type": "code",
   "execution_count": 19,
   "metadata": {},
   "outputs": [],
   "source": [
    "model.save(\"food_trained.h5\")"
   ]
  },
  {
   "cell_type": "code",
   "execution_count": 186,
   "metadata": {},
   "outputs": [],
   "source": [
    "test_f = validation_features[0]"
   ]
  },
  {
   "cell_type": "code",
   "execution_count": 79,
   "metadata": {},
   "outputs": [
    {
     "name": "stdout",
     "output_type": "stream",
     "text": [
      "_________________________________________________________________\n",
      "Layer (type)                 Output Shape              Param #   \n",
      "=================================================================\n",
      "dense_11 (Dense)             (None, 512)               12845568  \n",
      "_________________________________________________________________\n",
      "dropout_6 (Dropout)          (None, 512)               0         \n",
      "_________________________________________________________________\n",
      "dense_12 (Dense)             (None, 22)                11286     \n",
      "=================================================================\n",
      "Total params: 12,856,854\n",
      "Trainable params: 12,856,854\n",
      "Non-trainable params: 0\n",
      "_________________________________________________________________\n"
     ]
    }
   ],
   "source": [
    "model.summary()"
   ]
  },
  {
   "cell_type": "code",
   "execution_count": 21,
   "metadata": {},
   "outputs": [],
   "source": [
    "from keras.models import load_model\n",
    "model = load_model(\"food_trained.h5\")"
   ]
  },
  {
   "cell_type": "code",
   "execution_count": 27,
   "metadata": {},
   "outputs": [
    {
     "name": "stdout",
     "output_type": "stream",
     "text": [
      "No of errors = 2015/5500\n"
     ]
    }
   ],
   "source": [
    "fnames = validation_generator.filenames\n",
    " \n",
    "ground_truth = validation_generator.classes\n",
    " \n",
    "label2index = validation_generator.class_indices\n",
    " \n",
    "# Getting the mapping from class index to class label\n",
    "idx2label = dict((v,k) for k,v in label2index.items())\n",
    " \n",
    "predictions = model.predict_classes(validation_features)\n",
    "prob = model.predict(validation_features)\n",
    " \n",
    "errors = np.where(predictions != ground_truth)[0]\n",
    "print(\"No of errors = {}/{}\".format(len(errors),nVal))"
   ]
  },
  {
   "cell_type": "code",
   "execution_count": 29,
   "metadata": {},
   "outputs": [],
   "source": [
    "\n",
    "\n",
    "predictions = model.predict_classes(validation_features)\n"
   ]
  },
  {
   "cell_type": "code",
   "execution_count": 30,
   "metadata": {},
   "outputs": [],
   "source": [
    "prob = model.predict(validation_features)"
   ]
  },
  {
   "cell_type": "code",
   "execution_count": 214,
   "metadata": {},
   "outputs": [
    {
     "data": {
      "image/png": "[encoded data removed]",
      "text/plain": [
       "<PIL.Image.Image image mode=RGB size=224x224 at 0x1A2F977EB8>"
      ]
     },
     "execution_count": 214,
     "metadata": {},
     "output_type": "execute_result"
    }
   ],
   "source": [
    "from keras.preprocessing import image\n",
    "image_size = (224, 224)\n",
    "im = image.load_img(validationD[3500], target_size=image_size)\n",
    "im"
   ]
  },
  {
   "cell_type": "code",
   "execution_count": 215,
   "metadata": {},
   "outputs": [
    {
     "data": {
      "text/plain": [
       "(224, 224, 3)"
      ]
     },
     "execution_count": 215,
     "metadata": {},
     "output_type": "execute_result"
    }
   ],
   "source": [
    "from keras.preprocessing.image import img_to_array\n",
    "image = img_to_array(im)\n",
    "image.shape"
   ]
  },
  {
   "cell_type": "code",
   "execution_count": 216,
   "metadata": {},
   "outputs": [
    {
     "data": {
      "text/plain": [
       "(6, 25088)"
      ]
     },
     "execution_count": 216,
     "metadata": {},
     "output_type": "execute_result"
    }
   ],
   "source": [
    "# Scale the image pixels by 255 (or use a scaler from sklearn here)\n",
    "image /= 255\n",
    "\n",
    "# Flatten into a 1x28*28 array \n",
    "image_resized = image.flatten().reshape(-1, 7*7*512)\n",
    "\n",
    "image_resized.shape"
   ]
  },
  {
   "cell_type": "code",
   "execution_count": 217,
   "metadata": {},
   "outputs": [
    {
     "data": {
      "text/plain": [
       "array([18, 18, 18, 18, 18, 18])"
      ]
     },
     "execution_count": 217,
     "metadata": {},
     "output_type": "execute_result"
    }
   ],
   "source": [
    "model.predict_classes(image_resized)\n",
    "#image_resized)"
   ]
  },
  {
   "cell_type": "code",
   "execution_count": 218,
   "metadata": {},
   "outputs": [
    {
     "data": {
      "text/plain": [
       "{0: 'apple_pie',\n",
       " 1: 'caesar_salad',\n",
       " 2: 'cannoli',\n",
       " 3: 'cheesecake',\n",
       " 4: 'chicken_wings',\n",
       " 5: 'cup_cakes',\n",
       " 6: 'donuts',\n",
       " 7: 'french_fries',\n",
       " 8: 'grilled_cheese_sandwich',\n",
       " 9: 'guacamole',\n",
       " 10: 'hamburger',\n",
       " 11: 'hot_and_sour_soup',\n",
       " 12: 'hot_dog',\n",
       " 13: 'ice_cream',\n",
       " 14: 'lasagna',\n",
       " 15: 'oysters',\n",
       " 16: 'pizza',\n",
       " 17: 'spaghetti_carbonara',\n",
       " 18: 'steak',\n",
       " 19: 'sushi',\n",
       " 20: 'tacos',\n",
       " 21: 'waffles'}"
      ]
     },
     "execution_count": 218,
     "metadata": {},
     "output_type": "execute_result"
    }
   ],
   "source": [
    "idx2label"
   ]
  },
  {
   "cell_type": "code",
   "execution_count": null,
   "metadata": {},
   "outputs": [],
   "source": []
  }
 ],
 "metadata": {
  "kernelspec": {
   "display_name": "Python 3",
   "language": "python",
   "name": "python3"
  },
  "language_info": {
   "codemirror_mode": {
    "name": "ipython",
    "version": 3
   },
   "file_extension": ".py",
   "mimetype": "text/x-python",
   "name": "python",
   "nbconvert_exporter": "python",
   "pygments_lexer": "ipython3",
   "version": "3.6.8"
  }
 },
 "nbformat": 4,
 "nbformat_minor": 2
}
